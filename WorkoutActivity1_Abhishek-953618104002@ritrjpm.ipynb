{
  "nbformat": 4,
  "nbformat_minor": 0,
  "metadata": {
    "colab": {
      "name": "Session_01_sumanthnanneboina24@gmail.ipynb",
      "provenance": [],
      "collapsed_sections": []
    },
    "kernelspec": {
      "name": "python3",
      "display_name": "Python 3"
    },
    "language_info": {
      "name": "python"
    }
  },
  "cells": [
    {
      "cell_type": "markdown",
      "metadata": {
        "id": "Vsr0RuxF8gTt"
      },
      "source": [
        "#Workouts for the ML intro session\n"
      ]
    },
    {
      "cell_type": "markdown",
      "metadata": {
        "id": "VMrfCQbT8t-K"
      },
      "source": [
        "##Complete all the cells and upload the note book to github\n",
        "\n",
        "**Kindly use your own explanations and examples. you refer the internet but try to explain things with your own words and examples**\n"
      ]
    },
    {
      "cell_type": "markdown",
      "metadata": {
        "id": "4TiM_moD8-V_"
      },
      "source": [
        "1.  Will machine overtake humans in near future ? if yes explain why ? if not explain what prevents machines to learn/perform at human level ?\n",
        "\n",
        "     **ANS:**  No machines can over take Humankind , because we are the      creator  of the machines, will always be in charge of directing, operating, and controlling the use of this technology. \n",
        "\n",
        "\n"
      ]
    },
    {
      "cell_type": "markdown",
      "metadata": {
        "id": "W9aIe-Pl9uED"
      },
      "source": [
        "2. What recent development you think is very important or inspiring in machine learning/AI field ? just few words on any one or two\n",
        "    \n",
        "    **ANS:** Object Detection using yolov5 using pytorch"
      ]
    },
    {
      "cell_type": "markdown",
      "metadata": {
        "id": "XcQoFPwg-ChB"
      },
      "source": [
        "3. What is the differnce between regular programming or machine learning ?\n",
        "    \n",
        " **ANS:** In regular programming we are used to solve problem statements with input to get desired output Where as in machine learning we are passing input datasets to be trained to get output.\n",
        "     "
      ]
    },
    {
      "cell_type": "markdown",
      "metadata": {
        "id": "gJXmTK0r-Ydb"
      },
      "source": [
        "4. What is model is machine learning ?\n",
        "     \n",
        "    **ANS:** A machine learning model is a file that has been trained to recognize certain types of patterns. You train a model over a set of data, providing it an algorithm that it can use to reason over and learn from those data."
      ]
    },
    {
      "cell_type": "markdown",
      "metadata": {
        "id": "XGuClocF-dRX"
      },
      "source": [
        "5. how/where machine learning stores its learning ? \n",
        "\n",
        "     **ANS:** It stores in its model and parameters."
      ]
    },
    {
      "cell_type": "markdown",
      "metadata": {
        "id": "SFVwc5jC-oDE"
      },
      "source": [
        "6. What is training ? \n",
        "\n",
        "     **ANS:** Training a model simply means learning (determining) good values for all the weights and the bias from data."
      ]
    },
    {
      "cell_type": "markdown",
      "metadata": {
        "id": "BDx5DiJ4-ro_"
      },
      "source": [
        "7. what is reinforcement learning ?\n",
        "\n",
        "     **ANS:** Reinforcement learning is an iterative process where an algorithm seeks to maximize some value based on rewards r mistakes received for being right."
      ]
    },
    {
      "cell_type": "markdown",
      "metadata": {
        "id": "hYk7xK_Z-9dN"
      },
      "source": [
        "8. Give use cases for classification, clustering and regression ?\n",
        "\n",
        "    **ANS:** Classification: Classification algorithms are used to predict/Classify the discrete values such as Male or Female, True or False.\n",
        "     Regression: Regression algorithms are used to predict the continuous values such as price, salary, age, etc.\n",
        "     Clustering: Recommender systems (grouping together users with similar viewing patterns on Netflix, in order to recommend similar content). "
      ]
    },
    {
      "cell_type": "markdown",
      "metadata": {
        "id": "k0YwsEGa_baZ"
      },
      "source": [
        "9. What is dimension ? will more dimension be helpful to improve a machine learning model ? \n",
        "\n",
        "   **ANS:**  Dimensionality reduction refers to techniques for reducing the number of input variables in training data. When dealing with high dimensional data, it is often useful to reduce the dimensionality by projecting the data to a lower dimensional subspace which captures the “essence” of the data."
      ]
    },
    {
      "cell_type": "markdown",
      "metadata": {
        "id": "-od_1BPK_ktN"
      },
      "source": [
        "10. what is hypothetical space ? explain with an example\n",
        "\n",
        "     **ANS:**  Hypothetical space is the set of all the possible legal hypothesis. This is the set from which the machine learning algorithm would determine the best possible (only one) which would best describe the target function or the outputs."
      ]
    }
  ]
}