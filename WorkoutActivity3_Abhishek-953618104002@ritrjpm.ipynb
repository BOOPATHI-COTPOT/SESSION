{
  "nbformat": 4,
  "nbformat_minor": 0,
  "metadata": {
    "colab": {
      "name": "Final_WorkoutActivity_sumanthnanneboina24@gmail.com.ipynb",
      "provenance": [],
      "collapsed_sections": [],
      "toc_visible": true
    },
    "kernelspec": {
      "name": "python3",
      "display_name": "Python 3"
    },
    "language_info": {
      "name": "python"
    },
    "accelerator": "GPU"
  },
  "cells": [
    {
      "cell_type": "markdown",
      "metadata": {
        "id": "zg8iOo0MCl7c"
      },
      "source": [
        "# **Final Workout Activity**\n",
        "\n",
        "\n",
        "\n"
      ]
    },
    {
      "cell_type": "markdown",
      "metadata": {
        "id": "JD57YnySCzpj"
      },
      "source": [
        "**1)Summary of ML SESSION!!**\n",
        "\n",
        "    Hai Sir My name is Nanneboina Sumanth\n",
        "\n",
        "---\n",
        "\n",
        "\n",
        "\n",
        "\n",
        "\n",
        "\n",
        "\n",
        "\n",
        "\n",
        "***Interviewer :*** Can u say \"What is machine learning\" ?\n",
        "\n",
        "***Myself :*** Machine learning (ML) is a branch of artificial intelligence (AI) that focuses on building applications that can automatically and periodically learn and improve from experience without being explicitly programmed..\n",
        "\n",
        "***Interviewer :*** Ok, Can you say recent achivements of it..?\n",
        "\n",
        "***Myself :***\n",
        "*  Alphafold AI - deepmind\n",
        "*  Deepfake\n",
        "*  GPT3 - OpenAI\n",
        "\n",
        "\n",
        "\n",
        "***Interviewer :*** What are the types of machine learning  ?\n",
        "\n",
        "***Myself :***\n",
        "* Supervised(classification,Regression)\n",
        "* Unsupervised(clustering)\n",
        "* Reinforcement\n",
        "\n",
        "***Interviewer :*** Mention some ML libraries in python.\n",
        "\n",
        "***Myself :*** Numpy , pandas , sklearn , keras , matplotlib , TensorFlow ,pytorch,PILetc...\n",
        "\n",
        "***Interviewer :*** Do you know how to split data when we use it for training a model ?\n",
        "\n",
        "***Myself :***\n",
        " We split it into three :\n",
        "* Training set - to train the model\n",
        "* Test set - to test/valudate the model\n",
        "* Validation set - to fine tune the model\n",
        "\n",
        "   -->best algorithm to split is K-fold cross algorithm\n",
        "\n",
        "***Interviewer :***\n",
        "         Define the term Overfitting , Underfitting , Good Balance in Machine Learning.\n",
        "\n",
        "***Myself :*** \n",
        "     \n",
        "\n",
        "Overfitting: Good performance on the training data, poor generliazation to other data(pattern recognition is less)\n",
        "\n",
        "Underfitting: Poor performance on the training data and poor generalization to other data(pattern recognition to worst)\n",
        "\n",
        "Good Balance: Good performance on the training data and good generalization to other data(pattern recognition for objects takes place)\n",
        "\n",
        "***Interviewer :***\n",
        "         In how many dimensions we view in ML?\n",
        "\n",
        "***Myself :*** Multi-Dimension..\n",
        "\n",
        "\n",
        "***Interviewer :***\n",
        "Mention some clustering algorithm.\n",
        "\n",
        "***Myself :***\n",
        "\n",
        " * K-means clustering\n",
        " * K-medians clustering\n",
        " * Hierarchical clustering\n",
        " * Mean-Shift Clustering \n",
        " \n",
        "\n",
        "\n",
        "\n",
        " ***Interviewer :***\n",
        " What is Perceptron ?\n",
        "\n",
        "***Myself :***\n",
        "   It is a simple artificial Neural Networks.\n",
        "\n",
        "***Interviewer :***\n",
        "   State Hebbs Rule Formula.\n",
        "\n",
        "***Myself :*** y = w1 * x1 + w2 * x2 + Bias.\n",
        "\n",
        "**Interviewer :**\n",
        "   What is Gradient Descent in ML ?\n",
        "\n",
        "***Myself :*** Gradient Descent is an optimization algorithm used for minimizing the cost function in various machine learning algorithms. It is basically used for updating the parameters of the learning model.\n",
        "\n",
        "Algorithm like Stochastic Gradient Descent used.\n",
        "\n",
        "***Interviewer :*** Ok Nanneboina, We will  back to you.\n",
        "\n",
        "***Myself :*** Ok Sir..!! its my pleasure..!! \n",
        "\n"
      ]
    },
    {
      "cell_type": "markdown",
      "metadata": {
        "id": "8EsIHZds4atT"
      },
      "source": [
        "**MY Workouts**"
      ]
    },
    {
      "cell_type": "markdown",
      "metadata": {
        "id": "AA3HfYRLRDlo"
      },
      "source": [
        "**2(I))Supervised Learning**\n",
        "\n",
        "---\n",
        "\n"
      ]
    },
    {
      "cell_type": "markdown",
      "metadata": {
        "id": "A1dNlAM99J4T"
      },
      "source": [
        "Here Iam Using the TeleCommunication dataset from IBM.\n",
        "\n",
        "Classification Model is done using **K-Nearest Neighbors Algorithm**\n",
        "\n"
      ]
    },
    {
      "cell_type": "markdown",
      "metadata": {
        "id": "HoIkqvMf1c6O"
      },
      "source": [
        "**K-Nearest Neighbors** is an algorithm for supervised learning. Where the data is 'trained' with data points corresponding to their classification. Once a point is to be predicted, it takes into account the 'K' nearest points to it to determine it's classification."
      ]
    },
    {
      "cell_type": "code",
      "metadata": {
        "id": "j4PybcYDRvdY"
      },
      "source": [
        "import numpy as np\n",
        "import matplotlib.pyplot as plt\n",
        "import pandas as pd\n",
        "import numpy as np\n",
        "from sklearn import preprocessing\n",
        "%matplotlib inline"
      ],
      "execution_count": 3,
      "outputs": []
    },
    {
      "cell_type": "code",
      "metadata": {
        "id": "BwpLNLVVRxTf",
        "colab": {
          "base_uri": "https://localhost:8080/"
        },
        "outputId": "052a5d62-8d05-499f-c1c0-9d3ac9eff80d"
      },
      "source": [
        "!wget -O teleCust1000t.csv https://cf-courses-data.s3.us.cloud-object-storage.appdomain.cloud/IBMDeveloperSkillsNetwork-ML0101EN-SkillsNetwork/labs/Module%203/data/teleCust1000t.csv"
      ],
      "execution_count": 4,
      "outputs": [
        {
          "output_type": "stream",
          "text": [
            "--2021-06-04 07:30:17--  https://cf-courses-data.s3.us.cloud-object-storage.appdomain.cloud/IBMDeveloperSkillsNetwork-ML0101EN-SkillsNetwork/labs/Module%203/data/teleCust1000t.csv\n",
            "Resolving cf-courses-data.s3.us.cloud-object-storage.appdomain.cloud (cf-courses-data.s3.us.cloud-object-storage.appdomain.cloud)... 169.63.118.104\n",
            "Connecting to cf-courses-data.s3.us.cloud-object-storage.appdomain.cloud (cf-courses-data.s3.us.cloud-object-storage.appdomain.cloud)|169.63.118.104|:443... connected.\n",
            "HTTP request sent, awaiting response... 200 OK\n",
            "Length: 36047 (35K) [text/csv]\n",
            "Saving to: ‘teleCust1000t.csv’\n",
            "\n",
            "teleCust1000t.csv   100%[===================>]  35.20K  --.-KB/s    in 0.01s   \n",
            "\n",
            "2021-06-04 07:30:17 (2.89 MB/s) - ‘teleCust1000t.csv’ saved [36047/36047]\n",
            "\n"
          ],
          "name": "stdout"
        }
      ]
    },
    {
      "cell_type": "code",
      "metadata": {
        "id": "L_ZIdfbHR24_",
        "colab": {
          "base_uri": "https://localhost:8080/",
          "height": 204
        },
        "outputId": "1cc86266-0687-4795-db2c-eeca02fb5ec3"
      },
      "source": [
        "df = pd.read_csv('teleCust1000t.csv')\n",
        "df.head()"
      ],
      "execution_count": 5,
      "outputs": [
        {
          "output_type": "execute_result",
          "data": {
            "text/html": [
              "<div>\n",
              "<style scoped>\n",
              "    .dataframe tbody tr th:only-of-type {\n",
              "        vertical-align: middle;\n",
              "    }\n",
              "\n",
              "    .dataframe tbody tr th {\n",
              "        vertical-align: top;\n",
              "    }\n",
              "\n",
              "    .dataframe thead th {\n",
              "        text-align: right;\n",
              "    }\n",
              "</style>\n",
              "<table border=\"1\" class=\"dataframe\">\n",
              "  <thead>\n",
              "    <tr style=\"text-align: right;\">\n",
              "      <th></th>\n",
              "      <th>region</th>\n",
              "      <th>tenure</th>\n",
              "      <th>age</th>\n",
              "      <th>marital</th>\n",
              "      <th>address</th>\n",
              "      <th>income</th>\n",
              "      <th>ed</th>\n",
              "      <th>employ</th>\n",
              "      <th>retire</th>\n",
              "      <th>gender</th>\n",
              "      <th>reside</th>\n",
              "      <th>custcat</th>\n",
              "    </tr>\n",
              "  </thead>\n",
              "  <tbody>\n",
              "    <tr>\n",
              "      <th>0</th>\n",
              "      <td>2</td>\n",
              "      <td>13</td>\n",
              "      <td>44</td>\n",
              "      <td>1</td>\n",
              "      <td>9</td>\n",
              "      <td>64.0</td>\n",
              "      <td>4</td>\n",
              "      <td>5</td>\n",
              "      <td>0.0</td>\n",
              "      <td>0</td>\n",
              "      <td>2</td>\n",
              "      <td>1</td>\n",
              "    </tr>\n",
              "    <tr>\n",
              "      <th>1</th>\n",
              "      <td>3</td>\n",
              "      <td>11</td>\n",
              "      <td>33</td>\n",
              "      <td>1</td>\n",
              "      <td>7</td>\n",
              "      <td>136.0</td>\n",
              "      <td>5</td>\n",
              "      <td>5</td>\n",
              "      <td>0.0</td>\n",
              "      <td>0</td>\n",
              "      <td>6</td>\n",
              "      <td>4</td>\n",
              "    </tr>\n",
              "    <tr>\n",
              "      <th>2</th>\n",
              "      <td>3</td>\n",
              "      <td>68</td>\n",
              "      <td>52</td>\n",
              "      <td>1</td>\n",
              "      <td>24</td>\n",
              "      <td>116.0</td>\n",
              "      <td>1</td>\n",
              "      <td>29</td>\n",
              "      <td>0.0</td>\n",
              "      <td>1</td>\n",
              "      <td>2</td>\n",
              "      <td>3</td>\n",
              "    </tr>\n",
              "    <tr>\n",
              "      <th>3</th>\n",
              "      <td>2</td>\n",
              "      <td>33</td>\n",
              "      <td>33</td>\n",
              "      <td>0</td>\n",
              "      <td>12</td>\n",
              "      <td>33.0</td>\n",
              "      <td>2</td>\n",
              "      <td>0</td>\n",
              "      <td>0.0</td>\n",
              "      <td>1</td>\n",
              "      <td>1</td>\n",
              "      <td>1</td>\n",
              "    </tr>\n",
              "    <tr>\n",
              "      <th>4</th>\n",
              "      <td>2</td>\n",
              "      <td>23</td>\n",
              "      <td>30</td>\n",
              "      <td>1</td>\n",
              "      <td>9</td>\n",
              "      <td>30.0</td>\n",
              "      <td>1</td>\n",
              "      <td>2</td>\n",
              "      <td>0.0</td>\n",
              "      <td>0</td>\n",
              "      <td>4</td>\n",
              "      <td>3</td>\n",
              "    </tr>\n",
              "  </tbody>\n",
              "</table>\n",
              "</div>"
            ],
            "text/plain": [
              "   region  tenure  age  marital  ...  retire  gender  reside  custcat\n",
              "0       2      13   44        1  ...     0.0       0       2        1\n",
              "1       3      11   33        1  ...     0.0       0       6        4\n",
              "2       3      68   52        1  ...     0.0       1       2        3\n",
              "3       2      33   33        0  ...     0.0       1       1        1\n",
              "4       2      23   30        1  ...     0.0       0       4        3\n",
              "\n",
              "[5 rows x 12 columns]"
            ]
          },
          "metadata": {
            "tags": []
          },
          "execution_count": 5
        }
      ]
    },
    {
      "cell_type": "code",
      "metadata": {
        "colab": {
          "base_uri": "https://localhost:8080/"
        },
        "id": "yaBzhLChR7_I",
        "outputId": "8aee36f5-64e2-45a4-bbd6-3f5b75dc644c"
      },
      "source": [
        "df['custcat'].value_counts()"
      ],
      "execution_count": 6,
      "outputs": [
        {
          "output_type": "execute_result",
          "data": {
            "text/plain": [
              "3    281\n",
              "1    266\n",
              "4    236\n",
              "2    217\n",
              "Name: custcat, dtype: int64"
            ]
          },
          "metadata": {
            "tags": []
          },
          "execution_count": 6
        }
      ]
    },
    {
      "cell_type": "code",
      "metadata": {
        "id": "n_YgocPtR8sI",
        "colab": {
          "base_uri": "https://localhost:8080/",
          "height": 315
        },
        "outputId": "33110803-2218-4792-f97a-190ad6106ef3"
      },
      "source": [
        "df.hist(column='income', bins=50)"
      ],
      "execution_count": 7,
      "outputs": [
        {
          "output_type": "execute_result",
          "data": {
            "text/plain": [
              "array([[<matplotlib.axes._subplots.AxesSubplot object at 0x7fba891c7b10>]],\n",
              "      dtype=object)"
            ]
          },
          "metadata": {
            "tags": []
          },
          "execution_count": 7
        },
        {
          "output_type": "display_data",
          "data": {
            "image/png": "[encoded data removed]",
            "text/plain": [
              "<Figure size 432x288 with 1 Axes>"
            ]
          },
          "metadata": {
            "tags": [],
            "needs_background": "light"
          }
        }
      ]
    },
    {
      "cell_type": "code",
      "metadata": {
        "colab": {
          "base_uri": "https://localhost:8080/"
        },
        "id": "caKegYssSAHw",
        "outputId": "1463bab5-2a88-4283-a554-7e1a9bb73a1e"
      },
      "source": [
        "X = df[['region', 'tenure','age', 'marital', 'address', 'income', 'ed', 'employ','retire', 'gender', 'reside']] .values  #.astype(float)\n",
        "X[0:5]\n"
      ],
      "execution_count": 8,
      "outputs": [
        {
          "output_type": "execute_result",
          "data": {
            "text/plain": [
              "array([[  2.,  13.,  44.,   1.,   9.,  64.,   4.,   5.,   0.,   0.,   2.],\n",
              "       [  3.,  11.,  33.,   1.,   7., 136.,   5.,   5.,   0.,   0.,   6.],\n",
              "       [  3.,  68.,  52.,   1.,  24., 116.,   1.,  29.,   0.,   1.,   2.],\n",
              "       [  2.,  33.,  33.,   0.,  12.,  33.,   2.,   0.,   0.,   1.,   1.],\n",
              "       [  2.,  23.,  30.,   1.,   9.,  30.,   1.,   2.,   0.,   0.,   4.]])"
            ]
          },
          "metadata": {
            "tags": []
          },
          "execution_count": 8
        }
      ]
    },
    {
      "cell_type": "markdown",
      "metadata": {
        "id": "2XZYgumT-Hhm"
      },
      "source": [
        "Another way of evaluating our model is to compute the confusion matrix."
      ]
    },
    {
      "cell_type": "code",
      "metadata": {
        "colab": {
          "base_uri": "https://localhost:8080/"
        },
        "id": "PKnbRTDrSFkQ",
        "outputId": "b52a35bd-abf3-4b06-a8e9-a5bae108a066"
      },
      "source": [
        "y = df['custcat'].values\n",
        "y[0:5]"
      ],
      "execution_count": 9,
      "outputs": [
        {
          "output_type": "execute_result",
          "data": {
            "text/plain": [
              "array([1, 4, 3, 1, 3])"
            ]
          },
          "metadata": {
            "tags": []
          },
          "execution_count": 9
        }
      ]
    },
    {
      "cell_type": "code",
      "metadata": {
        "colab": {
          "base_uri": "https://localhost:8080/"
        },
        "id": "4AVLmXJE2XzB",
        "outputId": "e6644975-9b2d-486e-f0eb-55ac4c482d8a"
      },
      "source": [
        "X = preprocessing.StandardScaler().fit(X).transform(X.astype(float))\n",
        "X[0:5]"
      ],
      "execution_count": 10,
      "outputs": [
        {
          "output_type": "execute_result",
          "data": {
            "text/plain": [
              "array([[-0.02696767, -1.055125  ,  0.18450456,  1.0100505 , -0.25303431,\n",
              "        -0.12650641,  1.0877526 , -0.5941226 , -0.22207644, -1.03459817,\n",
              "        -0.23065004],\n",
              "       [ 1.19883553, -1.14880563, -0.69181243,  1.0100505 , -0.4514148 ,\n",
              "         0.54644972,  1.9062271 , -0.5941226 , -0.22207644, -1.03459817,\n",
              "         2.55666158],\n",
              "       [ 1.19883553,  1.52109247,  0.82182601,  1.0100505 ,  1.23481934,\n",
              "         0.35951747, -1.36767088,  1.78752803, -0.22207644,  0.96655883,\n",
              "        -0.23065004],\n",
              "       [-0.02696767, -0.11831864, -0.69181243, -0.9900495 ,  0.04453642,\n",
              "        -0.41625141, -0.54919639, -1.09029981, -0.22207644,  0.96655883,\n",
              "        -0.92747794],\n",
              "       [-0.02696767, -0.58672182, -0.93080797,  1.0100505 , -0.25303431,\n",
              "        -0.44429125, -1.36767088, -0.89182893, -0.22207644, -1.03459817,\n",
              "         1.16300577]])"
            ]
          },
          "metadata": {
            "tags": []
          },
          "execution_count": 10
        }
      ]
    },
    {
      "cell_type": "code",
      "metadata": {
        "colab": {
          "base_uri": "https://localhost:8080/"
        },
        "id": "EXikD_BD2Y7f",
        "outputId": "3dff6630-5706-4bf3-888b-681abfbf7df0"
      },
      "source": [
        "from sklearn.model_selection import train_test_split\n",
        "X_train, X_test, y_train, y_test = train_test_split( X, y, test_size=0.2, random_state=4)\n",
        "print ('Train set:', X_train.shape,  y_train.shape)\n",
        "print ('Test set:', X_test.shape,  y_test.shape)"
      ],
      "execution_count": 12,
      "outputs": [
        {
          "output_type": "stream",
          "text": [
            "Train set: (800, 11) (800,)\n",
            "Test set: (200, 11) (200,)\n"
          ],
          "name": "stdout"
        }
      ]
    },
    {
      "cell_type": "code",
      "metadata": {
        "colab": {
          "base_uri": "https://localhost:8080/"
        },
        "id": "kDzepChE2cIJ",
        "outputId": "14dd41e3-ca35-43c8-b4dc-11e8057c3ab2"
      },
      "source": [
        "from sklearn.neighbors import KNeighborsClassifier\n",
        "k = 4\n",
        "#Train Model and Predict  \n",
        "neigh = KNeighborsClassifier(n_neighbors = k).fit(X_train,y_train)\n",
        "neigh"
      ],
      "execution_count": 13,
      "outputs": [
        {
          "output_type": "execute_result",
          "data": {
            "text/plain": [
              "KNeighborsClassifier(algorithm='auto', leaf_size=30, metric='minkowski',\n",
              "                     metric_params=None, n_jobs=None, n_neighbors=4, p=2,\n",
              "                     weights='uniform')"
            ]
          },
          "metadata": {
            "tags": []
          },
          "execution_count": 13
        }
      ]
    },
    {
      "cell_type": "code",
      "metadata": {
        "colab": {
          "base_uri": "https://localhost:8080/"
        },
        "id": "CMMIuMt-2fWG",
        "outputId": "07e1ff53-c877-4631-a8af-88dc578ff00d"
      },
      "source": [
        "yhat = neigh.predict(X_test)\n",
        "yhat[0:5]"
      ],
      "execution_count": 14,
      "outputs": [
        {
          "output_type": "execute_result",
          "data": {
            "text/plain": [
              "array([1, 1, 3, 2, 4])"
            ]
          },
          "metadata": {
            "tags": []
          },
          "execution_count": 14
        }
      ]
    },
    {
      "cell_type": "code",
      "metadata": {
        "colab": {
          "base_uri": "https://localhost:8080/"
        },
        "id": "2ln8OmBi2lIO",
        "outputId": "42be8605-a27c-413f-828f-2a4e094bf098"
      },
      "source": [
        "from sklearn import metrics\n",
        "print(\"Train set Accuracy: \", metrics.accuracy_score(y_train, neigh.predict(X_train)))\n",
        "print(\"Test set Accuracy: \", metrics.accuracy_score(y_test, yhat))"
      ],
      "execution_count": 15,
      "outputs": [
        {
          "output_type": "stream",
          "text": [
            "Train set Accuracy:  0.5475\n",
            "Test set Accuracy:  0.32\n"
          ],
          "name": "stdout"
        }
      ]
    },
    {
      "cell_type": "markdown",
      "metadata": {
        "id": "exLXLFwsZD_5"
      },
      "source": [
        "\n",
        "\n",
        "---\n",
        "\n",
        "\n",
        "\n",
        "**2(II)) Unsupervised Learning**"
      ]
    },
    {
      "cell_type": "markdown",
      "metadata": {
        "id": "FzjWLKIR6hp2"
      },
      "source": [
        "There are many models for clustering out there. In this workout, we will be presenting the model that is considered one of the simplest models amongst them. Despite its simplicity, the K-means is vastly used for clustering in many data science applications, it is especially useful if you need to quickly discover insights from unlabeled data. In this notebook, you will learn how to use k-Means for customer segmentation.\n",
        "\n",
        "Some real-world applications of k-means:\n",
        "\n",
        "Customer segmentation\n",
        "Understand what the visitors of a website are trying to accomplish\n",
        "Pattern recognition\n",
        "Machine learning\n",
        "Data compression\n",
        "In this notebook we practice k-means clustering with 2 examples:\n",
        "\n",
        "\n",
        "\n",
        "*   k-means on a random generated dataset\n",
        "\n",
        "*   Using k-means for customer segmentation\n",
        "\n"
      ]
    },
    {
      "cell_type": "code",
      "metadata": {
        "colab": {
          "base_uri": "https://localhost:8080/"
        },
        "id": "lhckpazU7Gcx",
        "outputId": "e222222d-d8c2-4ed3-b0b2-7bf0fa68d229"
      },
      "source": [
        "import random \n",
        "import numpy as np \n",
        "import matplotlib.pyplot as plt \n",
        "from sklearn.cluster import KMeans \n",
        "from sklearn.datasets.samples_generator import make_blobs \n",
        "%matplotlib inline"
      ],
      "execution_count": 16,
      "outputs": [
        {
          "output_type": "stream",
          "text": [
            "/usr/local/lib/python3.7/dist-packages/sklearn/utils/deprecation.py:144: FutureWarning: The sklearn.datasets.samples_generator module is  deprecated in version 0.22 and will be removed in version 0.24. The corresponding classes / functions should instead be imported from sklearn.datasets. Anything that cannot be imported from sklearn.datasets is now part of the private API.\n",
            "  warnings.warn(message, FutureWarning)\n"
          ],
          "name": "stderr"
        }
      ]
    },
    {
      "cell_type": "code",
      "metadata": {
        "colab": {
          "base_uri": "https://localhost:8080/"
        },
        "id": "OwU6I1-a6-Qw",
        "outputId": "7b9358c9-dd76-4409-9fc5-e30ecdb5ad45"
      },
      "source": [
        "!wget -O Cust_Segmentation.csv https://cf-courses-data.s3.us.cloud-object-storage.appdomain.cloud/IBMDeveloperSkillsNetwork-ML0101EN-SkillsNetwork/labs/Module%204/data/Cust_Segmentation.csv"
      ],
      "execution_count": 19,
      "outputs": [
        {
          "output_type": "stream",
          "text": [
            "--2021-06-04 07:31:47--  https://cf-courses-data.s3.us.cloud-object-storage.appdomain.cloud/IBMDeveloperSkillsNetwork-ML0101EN-SkillsNetwork/labs/Module%204/data/Cust_Segmentation.csv\n",
            "Resolving cf-courses-data.s3.us.cloud-object-storage.appdomain.cloud (cf-courses-data.s3.us.cloud-object-storage.appdomain.cloud)... 169.63.118.104\n",
            "Connecting to cf-courses-data.s3.us.cloud-object-storage.appdomain.cloud (cf-courses-data.s3.us.cloud-object-storage.appdomain.cloud)|169.63.118.104|:443... connected.\n",
            "HTTP request sent, awaiting response... 200 OK\n",
            "Length: 33426 (33K) [text/csv]\n",
            "Saving to: ‘Cust_Segmentation.csv’\n",
            "\n",
            "Cust_Segmentation.c 100%[===================>]  32.64K  --.-KB/s    in 0.01s   \n",
            "\n",
            "2021-06-04 07:31:47 (2.60 MB/s) - ‘Cust_Segmentation.csv’ saved [33426/33426]\n",
            "\n"
          ],
          "name": "stdout"
        }
      ]
    },
    {
      "cell_type": "code",
      "metadata": {
        "colab": {
          "base_uri": "https://localhost:8080/",
          "height": 204
        },
        "id": "QdqmV5nf71f_",
        "outputId": "9b5b119a-e31e-4366-d6e4-f90d82b54519"
      },
      "source": [
        "import pandas as pd\n",
        "cust_df = pd.read_csv(\"Cust_Segmentation.csv\")\n",
        "cust_df.head()"
      ],
      "execution_count": 20,
      "outputs": [
        {
          "output_type": "execute_result",
          "data": {
            "text/html": [
              "<div>\n",
              "<style scoped>\n",
              "    .dataframe tbody tr th:only-of-type {\n",
              "        vertical-align: middle;\n",
              "    }\n",
              "\n",
              "    .dataframe tbody tr th {\n",
              "        vertical-align: top;\n",
              "    }\n",
              "\n",
              "    .dataframe thead th {\n",
              "        text-align: right;\n",
              "    }\n",
              "</style>\n",
              "<table border=\"1\" class=\"dataframe\">\n",
              "  <thead>\n",
              "    <tr style=\"text-align: right;\">\n",
              "      <th></th>\n",
              "      <th>Customer Id</th>\n",
              "      <th>Age</th>\n",
              "      <th>Edu</th>\n",
              "      <th>Years Employed</th>\n",
              "      <th>Income</th>\n",
              "      <th>Card Debt</th>\n",
              "      <th>Other Debt</th>\n",
              "      <th>Defaulted</th>\n",
              "      <th>Address</th>\n",
              "      <th>DebtIncomeRatio</th>\n",
              "    </tr>\n",
              "  </thead>\n",
              "  <tbody>\n",
              "    <tr>\n",
              "      <th>0</th>\n",
              "      <td>1</td>\n",
              "      <td>41</td>\n",
              "      <td>2</td>\n",
              "      <td>6</td>\n",
              "      <td>19</td>\n",
              "      <td>0.124</td>\n",
              "      <td>1.073</td>\n",
              "      <td>0.0</td>\n",
              "      <td>NBA001</td>\n",
              "      <td>6.3</td>\n",
              "    </tr>\n",
              "    <tr>\n",
              "      <th>1</th>\n",
              "      <td>2</td>\n",
              "      <td>47</td>\n",
              "      <td>1</td>\n",
              "      <td>26</td>\n",
              "      <td>100</td>\n",
              "      <td>4.582</td>\n",
              "      <td>8.218</td>\n",
              "      <td>0.0</td>\n",
              "      <td>NBA021</td>\n",
              "      <td>12.8</td>\n",
              "    </tr>\n",
              "    <tr>\n",
              "      <th>2</th>\n",
              "      <td>3</td>\n",
              "      <td>33</td>\n",
              "      <td>2</td>\n",
              "      <td>10</td>\n",
              "      <td>57</td>\n",
              "      <td>6.111</td>\n",
              "      <td>5.802</td>\n",
              "      <td>1.0</td>\n",
              "      <td>NBA013</td>\n",
              "      <td>20.9</td>\n",
              "    </tr>\n",
              "    <tr>\n",
              "      <th>3</th>\n",
              "      <td>4</td>\n",
              "      <td>29</td>\n",
              "      <td>2</td>\n",
              "      <td>4</td>\n",
              "      <td>19</td>\n",
              "      <td>0.681</td>\n",
              "      <td>0.516</td>\n",
              "      <td>0.0</td>\n",
              "      <td>NBA009</td>\n",
              "      <td>6.3</td>\n",
              "    </tr>\n",
              "    <tr>\n",
              "      <th>4</th>\n",
              "      <td>5</td>\n",
              "      <td>47</td>\n",
              "      <td>1</td>\n",
              "      <td>31</td>\n",
              "      <td>253</td>\n",
              "      <td>9.308</td>\n",
              "      <td>8.908</td>\n",
              "      <td>0.0</td>\n",
              "      <td>NBA008</td>\n",
              "      <td>7.2</td>\n",
              "    </tr>\n",
              "  </tbody>\n",
              "</table>\n",
              "</div>"
            ],
            "text/plain": [
              "   Customer Id  Age  Edu  ...  Defaulted  Address  DebtIncomeRatio\n",
              "0            1   41    2  ...        0.0   NBA001              6.3\n",
              "1            2   47    1  ...        0.0   NBA021             12.8\n",
              "2            3   33    2  ...        1.0   NBA013             20.9\n",
              "3            4   29    2  ...        0.0   NBA009              6.3\n",
              "4            5   47    1  ...        0.0   NBA008              7.2\n",
              "\n",
              "[5 rows x 10 columns]"
            ]
          },
          "metadata": {
            "tags": []
          },
          "execution_count": 20
        }
      ]
    },
    {
      "cell_type": "markdown",
      "metadata": {
        "id": "EmKc6MGH4WY1"
      },
      "source": [
        "<h2 id=\"pre_processing\">Pre-processing</h2\n"
      ]
    },
    {
      "cell_type": "code",
      "metadata": {
        "button": false,
        "new_sheet": false,
        "run_control": {
          "read_only": false
        },
        "id": "vYA6dIhc4WY2",
        "colab": {
          "base_uri": "https://localhost:8080/",
          "height": 204
        },
        "outputId": "81a95870-cfe9-488f-ca72-c17db94da184"
      },
      "source": [
        "df = cust_df.drop('Address', axis=1)\n",
        "df.head()"
      ],
      "execution_count": 21,
      "outputs": [
        {
          "output_type": "execute_result",
          "data": {
            "text/html": [
              "<div>\n",
              "<style scoped>\n",
              "    .dataframe tbody tr th:only-of-type {\n",
              "        vertical-align: middle;\n",
              "    }\n",
              "\n",
              "    .dataframe tbody tr th {\n",
              "        vertical-align: top;\n",
              "    }\n",
              "\n",
              "    .dataframe thead th {\n",
              "        text-align: right;\n",
              "    }\n",
              "</style>\n",
              "<table border=\"1\" class=\"dataframe\">\n",
              "  <thead>\n",
              "    <tr style=\"text-align: right;\">\n",
              "      <th></th>\n",
              "      <th>Customer Id</th>\n",
              "      <th>Age</th>\n",
              "      <th>Edu</th>\n",
              "      <th>Years Employed</th>\n",
              "      <th>Income</th>\n",
              "      <th>Card Debt</th>\n",
              "      <th>Other Debt</th>\n",
              "      <th>Defaulted</th>\n",
              "      <th>DebtIncomeRatio</th>\n",
              "    </tr>\n",
              "  </thead>\n",
              "  <tbody>\n",
              "    <tr>\n",
              "      <th>0</th>\n",
              "      <td>1</td>\n",
              "      <td>41</td>\n",
              "      <td>2</td>\n",
              "      <td>6</td>\n",
              "      <td>19</td>\n",
              "      <td>0.124</td>\n",
              "      <td>1.073</td>\n",
              "      <td>0.0</td>\n",
              "      <td>6.3</td>\n",
              "    </tr>\n",
              "    <tr>\n",
              "      <th>1</th>\n",
              "      <td>2</td>\n",
              "      <td>47</td>\n",
              "      <td>1</td>\n",
              "      <td>26</td>\n",
              "      <td>100</td>\n",
              "      <td>4.582</td>\n",
              "      <td>8.218</td>\n",
              "      <td>0.0</td>\n",
              "      <td>12.8</td>\n",
              "    </tr>\n",
              "    <tr>\n",
              "      <th>2</th>\n",
              "      <td>3</td>\n",
              "      <td>33</td>\n",
              "      <td>2</td>\n",
              "      <td>10</td>\n",
              "      <td>57</td>\n",
              "      <td>6.111</td>\n",
              "      <td>5.802</td>\n",
              "      <td>1.0</td>\n",
              "      <td>20.9</td>\n",
              "    </tr>\n",
              "    <tr>\n",
              "      <th>3</th>\n",
              "      <td>4</td>\n",
              "      <td>29</td>\n",
              "      <td>2</td>\n",
              "      <td>4</td>\n",
              "      <td>19</td>\n",
              "      <td>0.681</td>\n",
              "      <td>0.516</td>\n",
              "      <td>0.0</td>\n",
              "      <td>6.3</td>\n",
              "    </tr>\n",
              "    <tr>\n",
              "      <th>4</th>\n",
              "      <td>5</td>\n",
              "      <td>47</td>\n",
              "      <td>1</td>\n",
              "      <td>31</td>\n",
              "      <td>253</td>\n",
              "      <td>9.308</td>\n",
              "      <td>8.908</td>\n",
              "      <td>0.0</td>\n",
              "      <td>7.2</td>\n",
              "    </tr>\n",
              "  </tbody>\n",
              "</table>\n",
              "</div>"
            ],
            "text/plain": [
              "   Customer Id  Age  Edu  ...  Other Debt  Defaulted  DebtIncomeRatio\n",
              "0            1   41    2  ...       1.073        0.0              6.3\n",
              "1            2   47    1  ...       8.218        0.0             12.8\n",
              "2            3   33    2  ...       5.802        1.0             20.9\n",
              "3            4   29    2  ...       0.516        0.0              6.3\n",
              "4            5   47    1  ...       8.908        0.0              7.2\n",
              "\n",
              "[5 rows x 9 columns]"
            ]
          },
          "metadata": {
            "tags": []
          },
          "execution_count": 21
        }
      ]
    },
    {
      "cell_type": "code",
      "metadata": {
        "button": false,
        "new_sheet": false,
        "run_control": {
          "read_only": false
        },
        "id": "e1jx9X574WY2",
        "colab": {
          "base_uri": "https://localhost:8080/"
        },
        "outputId": "308eafcf-313a-4049-8b0a-cd2ad050db34"
      },
      "source": [
        "from sklearn.preprocessing import StandardScaler\n",
        "X = df.values[:,1:]\n",
        "X = np.nan_to_num(X)\n",
        "Clus_dataSet = StandardScaler().fit_transform(X)\n",
        "Clus_dataSet"
      ],
      "execution_count": 22,
      "outputs": [
        {
          "output_type": "execute_result",
          "data": {
            "text/plain": [
              "array([[ 0.74291541,  0.31212243, -0.37878978, ..., -0.59048916,\n",
              "        -0.52379654, -0.57652509],\n",
              "       [ 1.48949049, -0.76634938,  2.5737211 , ...,  1.51296181,\n",
              "        -0.52379654,  0.39138677],\n",
              "       [-0.25251804,  0.31212243,  0.2117124 , ...,  0.80170393,\n",
              "         1.90913822,  1.59755385],\n",
              "       ...,\n",
              "       [-1.24795149,  2.46906604, -1.26454304, ...,  0.03863257,\n",
              "         1.90913822,  3.45892281],\n",
              "       [-0.37694723, -0.76634938,  0.50696349, ..., -0.70147601,\n",
              "        -0.52379654, -1.08281745],\n",
              "       [ 2.1116364 , -0.76634938,  1.09746566, ...,  0.16463355,\n",
              "        -0.52379654, -0.2340332 ]])"
            ]
          },
          "metadata": {
            "tags": []
          },
          "execution_count": 22
        }
      ]
    },
    {
      "cell_type": "markdown",
      "metadata": {
        "id": "mUcOxiBe4WY3"
      },
      "source": [
        "<h2 id=\"modeling\">Modeling</h2>\n"
      ]
    },
    {
      "cell_type": "code",
      "metadata": {
        "button": false,
        "new_sheet": false,
        "run_control": {
          "read_only": false
        },
        "id": "iYPIqcJK4WY3",
        "colab": {
          "base_uri": "https://localhost:8080/"
        },
        "outputId": "955cecfa-ddb4-4504-f536-ba2308259a38"
      },
      "source": [
        "clusterNum = 3\n",
        "k_means = KMeans(init = \"k-means++\", n_clusters = clusterNum, n_init = 12)\n",
        "k_means.fit(X)\n",
        "labels = k_means.labels_\n",
        "print(labels)"
      ],
      "execution_count": 23,
      "outputs": [
        {
          "output_type": "stream",
          "text": [
            "[1 2 1 1 0 2 1 2 1 2 2 1 1 1 1 1 1 1 2 1 1 1 1 2 2 2 1 1 2 1 2 1 1 1 1 1 1\n",
            " 1 1 2 1 2 1 0 1 2 1 1 1 2 2 1 1 2 2 1 1 1 2 1 2 1 2 2 1 1 2 1 1 1 2 2 2 1\n",
            " 1 1 1 1 2 1 2 2 0 1 1 1 1 1 1 1 2 1 1 1 1 1 1 1 1 1 1 2 2 1 1 1 1 1 1 2 1\n",
            " 1 1 1 1 1 1 1 2 1 1 1 1 1 1 2 1 1 1 1 1 2 1 1 1 1 2 1 1 1 1 1 1 1 2 1 2 1\n",
            " 1 1 1 1 1 1 2 1 2 2 1 2 1 1 2 1 1 1 1 1 1 1 2 1 1 1 1 1 1 1 1 2 1 1 1 2 1\n",
            " 1 1 1 1 2 1 1 2 1 2 1 1 2 0 1 2 1 1 1 1 1 1 0 2 1 1 1 1 2 1 1 2 2 1 2 1 2\n",
            " 1 1 1 1 2 1 1 1 1 1 1 1 2 1 1 1 1 1 1 1 1 1 1 0 2 1 1 1 1 1 1 1 2 1 1 1 1\n",
            " 1 1 2 1 1 2 1 1 2 1 1 1 1 1 1 1 1 1 1 1 1 1 2 2 1 2 1 2 1 2 2 1 1 1 1 1 1\n",
            " 1 1 1 2 2 2 1 1 1 2 1 1 1 1 1 1 1 1 1 1 1 1 1 1 2 1 2 1 1 1 1 1 2 1 2 2 1\n",
            " 1 1 1 1 2 1 1 1 1 1 1 2 1 1 2 1 1 2 1 1 1 1 1 2 1 1 1 0 1 1 1 2 1 2 2 2 1\n",
            " 1 1 2 1 1 1 1 1 1 1 1 1 1 1 2 1 2 1 1 1 1 1 1 1 1 1 1 2 1 1 1 1 1 1 1 1 1\n",
            " 1 2 1 1 2 1 1 1 1 2 1 1 1 1 2 1 1 2 1 1 1 1 1 1 1 1 1 2 1 1 1 2 1 1 1 1 0\n",
            " 1 1 1 1 1 1 2 1 1 1 0 1 1 1 1 2 1 0 1 1 1 1 2 1 2 2 2 1 1 2 2 1 1 1 1 1 1\n",
            " 1 2 1 1 1 1 2 1 1 1 2 1 2 1 1 1 2 1 1 1 1 2 2 1 1 1 1 2 1 1 1 1 2 1 1 1 1\n",
            " 1 2 2 1 1 1 1 1 1 1 1 1 1 1 0 2 1 1 1 1 1 1 2 1 1 1 1 2 1 1 2 1 1 0 1 0 1\n",
            " 1 0 1 1 1 1 1 1 1 1 1 2 1 2 1 1 0 1 1 1 1 1 1 1 1 2 1 1 1 1 1 1 1 1 2 1 2\n",
            " 1 1 1 1 1 1 2 1 1 1 1 2 1 2 1 1 1 1 1 1 1 1 1 1 1 1 1 1 2 1 1 1 1 1 1 1 2\n",
            " 2 1 1 2 1 2 1 1 2 1 2 1 1 0 1 2 1 2 1 1 1 1 1 2 2 1 1 1 1 2 1 1 1 2 2 1 1\n",
            " 2 1 1 1 2 1 0 1 1 2 1 1 1 1 1 1 1 2 1 1 1 2 1 1 1 1 1 2 1 1 2 1 1 1 1 1 1\n",
            " 1 1 2 1 1 2 1 2 1 2 2 1 1 1 2 1 2 1 1 1 1 1 2 1 1 1 1 2 2 1 1 2 2 1 1 1 1\n",
            " 1 2 1 1 1 1 2 1 1 1 1 1 1 1 1 1 1 1 2 1 2 2 1 2 1 2 2 1 1 2 1 1 1 1 1 2 2\n",
            " 1 1 1 1 1 1 1 2 1 1 1 1 1 1 0 2 2 1 1 1 1 1 1 1 2 1 1 1 1 1 1 2 1 1 1 1 1\n",
            " 1 1 1 1 1 1 1 1 1 1 1 2 1 1 1 1 1 1 1 1 1 1 1 1 1 1 1 2 1 1 1 1 1 1 1 2]\n"
          ],
          "name": "stdout"
        }
      ]
    },
    {
      "cell_type": "markdown",
      "metadata": {
        "button": false,
        "new_sheet": false,
        "run_control": {
          "read_only": false
        },
        "id": "5YYeltof4WY3"
      },
      "source": [
        "<h2 id=\"insights\">Insights</h2>\n",
        "\n",
        "We assign the labels to each row in dataframe.\n"
      ]
    },
    {
      "cell_type": "code",
      "metadata": {
        "button": false,
        "new_sheet": false,
        "run_control": {
          "read_only": false
        },
        "id": "5WyF6Dep4WY3",
        "colab": {
          "base_uri": "https://localhost:8080/",
          "height": 204
        },
        "outputId": "a2754692-d7be-49a1-ed85-f02826e3f053"
      },
      "source": [
        "df[\"Clus_km\"] = labels\n",
        "df.head(5)"
      ],
      "execution_count": 24,
      "outputs": [
        {
          "output_type": "execute_result",
          "data": {
            "text/html": [
              "<div>\n",
              "<style scoped>\n",
              "    .dataframe tbody tr th:only-of-type {\n",
              "        vertical-align: middle;\n",
              "    }\n",
              "\n",
              "    .dataframe tbody tr th {\n",
              "        vertical-align: top;\n",
              "    }\n",
              "\n",
              "    .dataframe thead th {\n",
              "        text-align: right;\n",
              "    }\n",
              "</style>\n",
              "<table border=\"1\" class=\"dataframe\">\n",
              "  <thead>\n",
              "    <tr style=\"text-align: right;\">\n",
              "      <th></th>\n",
              "      <th>Customer Id</th>\n",
              "      <th>Age</th>\n",
              "      <th>Edu</th>\n",
              "      <th>Years Employed</th>\n",
              "      <th>Income</th>\n",
              "      <th>Card Debt</th>\n",
              "      <th>Other Debt</th>\n",
              "      <th>Defaulted</th>\n",
              "      <th>DebtIncomeRatio</th>\n",
              "      <th>Clus_km</th>\n",
              "    </tr>\n",
              "  </thead>\n",
              "  <tbody>\n",
              "    <tr>\n",
              "      <th>0</th>\n",
              "      <td>1</td>\n",
              "      <td>41</td>\n",
              "      <td>2</td>\n",
              "      <td>6</td>\n",
              "      <td>19</td>\n",
              "      <td>0.124</td>\n",
              "      <td>1.073</td>\n",
              "      <td>0.0</td>\n",
              "      <td>6.3</td>\n",
              "      <td>1</td>\n",
              "    </tr>\n",
              "    <tr>\n",
              "      <th>1</th>\n",
              "      <td>2</td>\n",
              "      <td>47</td>\n",
              "      <td>1</td>\n",
              "      <td>26</td>\n",
              "      <td>100</td>\n",
              "      <td>4.582</td>\n",
              "      <td>8.218</td>\n",
              "      <td>0.0</td>\n",
              "      <td>12.8</td>\n",
              "      <td>2</td>\n",
              "    </tr>\n",
              "    <tr>\n",
              "      <th>2</th>\n",
              "      <td>3</td>\n",
              "      <td>33</td>\n",
              "      <td>2</td>\n",
              "      <td>10</td>\n",
              "      <td>57</td>\n",
              "      <td>6.111</td>\n",
              "      <td>5.802</td>\n",
              "      <td>1.0</td>\n",
              "      <td>20.9</td>\n",
              "      <td>1</td>\n",
              "    </tr>\n",
              "    <tr>\n",
              "      <th>3</th>\n",
              "      <td>4</td>\n",
              "      <td>29</td>\n",
              "      <td>2</td>\n",
              "      <td>4</td>\n",
              "      <td>19</td>\n",
              "      <td>0.681</td>\n",
              "      <td>0.516</td>\n",
              "      <td>0.0</td>\n",
              "      <td>6.3</td>\n",
              "      <td>1</td>\n",
              "    </tr>\n",
              "    <tr>\n",
              "      <th>4</th>\n",
              "      <td>5</td>\n",
              "      <td>47</td>\n",
              "      <td>1</td>\n",
              "      <td>31</td>\n",
              "      <td>253</td>\n",
              "      <td>9.308</td>\n",
              "      <td>8.908</td>\n",
              "      <td>0.0</td>\n",
              "      <td>7.2</td>\n",
              "      <td>0</td>\n",
              "    </tr>\n",
              "  </tbody>\n",
              "</table>\n",
              "</div>"
            ],
            "text/plain": [
              "   Customer Id  Age  Edu  ...  Defaulted  DebtIncomeRatio  Clus_km\n",
              "0            1   41    2  ...        0.0              6.3        1\n",
              "1            2   47    1  ...        0.0             12.8        2\n",
              "2            3   33    2  ...        1.0             20.9        1\n",
              "3            4   29    2  ...        0.0              6.3        1\n",
              "4            5   47    1  ...        0.0              7.2        0\n",
              "\n",
              "[5 rows x 10 columns]"
            ]
          },
          "metadata": {
            "tags": []
          },
          "execution_count": 24
        }
      ]
    },
    {
      "cell_type": "markdown",
      "metadata": {
        "button": false,
        "new_sheet": false,
        "run_control": {
          "read_only": false
        },
        "id": "ca_4A5Z44WY3"
      },
      "source": [
        "We can easily check the centroid values by averaging the features in each cluster.\n"
      ]
    },
    {
      "cell_type": "code",
      "metadata": {
        "button": false,
        "new_sheet": false,
        "run_control": {
          "read_only": false
        },
        "id": "Aiq2gruU4WY4",
        "colab": {
          "base_uri": "https://localhost:8080/",
          "height": 173
        },
        "outputId": "f3a81732-21b5-4eeb-9bd8-f3c099affab7"
      },
      "source": [
        "df.groupby('Clus_km').mean()"
      ],
      "execution_count": 25,
      "outputs": [
        {
          "output_type": "execute_result",
          "data": {
            "text/html": [
              "<div>\n",
              "<style scoped>\n",
              "    .dataframe tbody tr th:only-of-type {\n",
              "        vertical-align: middle;\n",
              "    }\n",
              "\n",
              "    .dataframe tbody tr th {\n",
              "        vertical-align: top;\n",
              "    }\n",
              "\n",
              "    .dataframe thead th {\n",
              "        text-align: right;\n",
              "    }\n",
              "</style>\n",
              "<table border=\"1\" class=\"dataframe\">\n",
              "  <thead>\n",
              "    <tr style=\"text-align: right;\">\n",
              "      <th></th>\n",
              "      <th>Customer Id</th>\n",
              "      <th>Age</th>\n",
              "      <th>Edu</th>\n",
              "      <th>Years Employed</th>\n",
              "      <th>Income</th>\n",
              "      <th>Card Debt</th>\n",
              "      <th>Other Debt</th>\n",
              "      <th>Defaulted</th>\n",
              "      <th>DebtIncomeRatio</th>\n",
              "    </tr>\n",
              "    <tr>\n",
              "      <th>Clus_km</th>\n",
              "      <th></th>\n",
              "      <th></th>\n",
              "      <th></th>\n",
              "      <th></th>\n",
              "      <th></th>\n",
              "      <th></th>\n",
              "      <th></th>\n",
              "      <th></th>\n",
              "      <th></th>\n",
              "    </tr>\n",
              "  </thead>\n",
              "  <tbody>\n",
              "    <tr>\n",
              "      <th>0</th>\n",
              "      <td>410.166667</td>\n",
              "      <td>45.388889</td>\n",
              "      <td>2.666667</td>\n",
              "      <td>19.555556</td>\n",
              "      <td>227.166667</td>\n",
              "      <td>5.678444</td>\n",
              "      <td>10.907167</td>\n",
              "      <td>0.285714</td>\n",
              "      <td>7.322222</td>\n",
              "    </tr>\n",
              "    <tr>\n",
              "      <th>1</th>\n",
              "      <td>432.468413</td>\n",
              "      <td>32.964561</td>\n",
              "      <td>1.614792</td>\n",
              "      <td>6.374422</td>\n",
              "      <td>31.164869</td>\n",
              "      <td>1.032541</td>\n",
              "      <td>2.104133</td>\n",
              "      <td>0.285185</td>\n",
              "      <td>10.094761</td>\n",
              "    </tr>\n",
              "    <tr>\n",
              "      <th>2</th>\n",
              "      <td>402.295082</td>\n",
              "      <td>41.333333</td>\n",
              "      <td>1.956284</td>\n",
              "      <td>15.256831</td>\n",
              "      <td>83.928962</td>\n",
              "      <td>3.103639</td>\n",
              "      <td>5.765279</td>\n",
              "      <td>0.171233</td>\n",
              "      <td>10.724590</td>\n",
              "    </tr>\n",
              "  </tbody>\n",
              "</table>\n",
              "</div>"
            ],
            "text/plain": [
              "         Customer Id        Age  ...  Defaulted  DebtIncomeRatio\n",
              "Clus_km                          ...                            \n",
              "0         410.166667  45.388889  ...   0.285714         7.322222\n",
              "1         432.468413  32.964561  ...   0.285185        10.094761\n",
              "2         402.295082  41.333333  ...   0.171233        10.724590\n",
              "\n",
              "[3 rows x 9 columns]"
            ]
          },
          "metadata": {
            "tags": []
          },
          "execution_count": 25
        }
      ]
    },
    {
      "cell_type": "markdown",
      "metadata": {
        "id": "GTNpTjGW4WY4"
      },
      "source": [
        "Now, let's look at the distribution of customers based on their age and income:\n"
      ]
    },
    {
      "cell_type": "code",
      "metadata": {
        "button": false,
        "new_sheet": false,
        "run_control": {
          "read_only": false
        },
        "id": "mQ6L0aB54WY4",
        "colab": {
          "base_uri": "https://localhost:8080/",
          "height": 287
        },
        "outputId": "950fbf5e-9cfe-4378-c82c-01eb33f2e0a8"
      },
      "source": [
        "area = np.pi * ( X[:, 1])**2  \n",
        "plt.scatter(X[:, 0], X[:, 3], s=area, c=labels.astype(np.float), alpha=0.5)\n",
        "plt.xlabel('Age', fontsize=18)\n",
        "plt.ylabel('Income', fontsize=16)\n",
        "\n",
        "plt.show()\n"
      ],
      "execution_count": 26,
      "outputs": [
        {
          "output_type": "display_data",
          "data": {
            "image/png": "[encoded data removed]",
            "text/plain": [
              "<Figure size 432x288 with 1 Axes>"
            ]
          },
          "metadata": {
            "tags": [],
            "needs_background": "light"
          }
        }
      ]
    },
    {
      "cell_type": "code",
      "metadata": {
        "id": "x0KqKBQD4WY4",
        "colab": {
          "base_uri": "https://localhost:8080/",
          "height": 480
        },
        "outputId": "106989bf-b163-4c0b-e277-ba3666a699f1"
      },
      "source": [
        "from mpl_toolkits.mplot3d import Axes3D \n",
        "fig = plt.figure(1, figsize=(8, 6))\n",
        "plt.clf()\n",
        "ax = Axes3D(fig, rect=[0, 0, .95, 1], elev=48, azim=134)\n",
        "\n",
        "plt.cla()\n",
        "# plt.ylabel('Age', fontsize=18)\n",
        "# plt.xlabel('Income', fontsize=16)\n",
        "# plt.zlabel('Education', fontsize=16)\n",
        "ax.set_xlabel('Education')\n",
        "ax.set_ylabel('Age')\n",
        "ax.set_zlabel('Income')\n",
        "\n",
        "ax.scatter(X[:, 1], X[:, 0], X[:, 3], c= labels.astype(np.float))\n"
      ],
      "execution_count": 27,
      "outputs": [
        {
          "output_type": "execute_result",
          "data": {
            "text/plain": [
              "<mpl_toolkits.mplot3d.art3d.Path3DCollection at 0x7fba83378910>"
            ]
          },
          "metadata": {
            "tags": []
          },
          "execution_count": 27
        },
        {
          "output_type": "display_data",
          "data": {
            "image/png": "[encoded data removed]",
            "text/plain": [
              "<Figure size 576x432 with 1 Axes>"
            ]
          },
          "metadata": {
            "tags": [],
            "needs_background": "light"
          }
        }
      ]
    },
    {
      "cell_type": "markdown",
      "metadata": {
        "id": "xLbX5HG6G86s"
      },
      "source": [
        "\n",
        "\n",
        "---\n",
        "\n",
        "\n",
        "\n",
        "**3) Simple Neural Network**"
      ]
    },
    {
      "cell_type": "markdown",
      "metadata": {
        "id": "zsb2PvtHrO98"
      },
      "source": [
        "###Identifying Images from the CIFAR-10 Dataset using CNNs"
      ]
    },
    {
      "cell_type": "markdown",
      "metadata": {
        "id": "_zImO8TJO-Iw"
      },
      "source": [
        "keras imports for the dataset and building our neural network"
      ]
    },
    {
      "cell_type": "code",
      "metadata": {
        "id": "4hwXosxtO-9w"
      },
      "source": [
        "from keras.datasets import cifar10\n",
        "from keras.models import Sequential\n",
        "from keras.layers import Dense, Dropout, Conv2D, MaxPool2D, Flatten\n",
        "from keras.utils import np_utils"
      ],
      "execution_count": 3,
      "outputs": []
    },
    {
      "cell_type": "markdown",
      "metadata": {
        "id": "Ban0y1ksPCLR"
      },
      "source": [
        "loading the dataset"
      ]
    },
    {
      "cell_type": "code",
      "metadata": {
        "colab": {
          "base_uri": "https://localhost:8080/"
        },
        "id": "_TxnoQ_IPCha",
        "outputId": "02859b2a-bf99-4d7e-9c19-abd133b0b0ba"
      },
      "source": [
        "(X_train, y_train), (X_test, y_test) = cifar10.load_data()"
      ],
      "execution_count": 4,
      "outputs": [
        {
          "output_type": "stream",
          "text": [
            "Downloading data from https://www.cs.toronto.edu/~kriz/cifar-10-python.tar.gz\n",
            "170500096/170498071 [==============================] - 4s 0us/step\n",
            "170508288/170498071 [==============================] - 4s 0us/step\n"
          ],
          "name": "stdout"
        }
      ]
    },
    {
      "cell_type": "markdown",
      "metadata": {
        "id": "T4rt11adPIFx"
      },
      "source": [
        "building the input vector from the 32x32 pixels"
      ]
    },
    {
      "cell_type": "code",
      "metadata": {
        "id": "CuVQxenpPKuf"
      },
      "source": [
        "X_train = X_train.reshape(X_train.shape[0], 32, 32, 3)\n",
        "X_test = X_test.reshape(X_test.shape[0], 32, 32, 3)\n",
        "X_train = X_train.astype('float32')\n",
        "X_test = X_test.astype('float32')\n"
      ],
      "execution_count": 5,
      "outputs": []
    },
    {
      "cell_type": "markdown",
      "metadata": {
        "id": "5mgWEjI5PNEv"
      },
      "source": [
        "Normalizing the data to help with the training"
      ]
    },
    {
      "cell_type": "code",
      "metadata": {
        "id": "Xp1WMKEzPP_n"
      },
      "source": [
        "X_train /= 255\n",
        "X_test /= 255"
      ],
      "execution_count": 6,
      "outputs": []
    },
    {
      "cell_type": "markdown",
      "metadata": {
        "id": "k9Z8FhURPSAo"
      },
      "source": [
        "one-hot encoding using keras' numpy-related utilities"
      ]
    },
    {
      "cell_type": "code",
      "metadata": {
        "colab": {
          "base_uri": "https://localhost:8080/"
        },
        "id": "D5d-7KVQPT9i",
        "outputId": "567d7ce1-ab83-494c-8c09-09bccd1d1c6f"
      },
      "source": [
        "n_classes = 10\n",
        "print(\"Shape before one-hot encoding: \", y_train.shape)\n",
        "Y_train = np_utils.to_categorical(y_train, n_classes)\n",
        "Y_test = np_utils.to_categorical(y_test, n_classes)\n",
        "print(\"Shape after one-hot encoding: \", Y_train.shape)"
      ],
      "execution_count": 7,
      "outputs": [
        {
          "output_type": "stream",
          "text": [
            "Shape before one-hot encoding:  (50000, 1)\n",
            "Shape after one-hot encoding:  (50000, 10)\n"
          ],
          "name": "stdout"
        }
      ]
    },
    {
      "cell_type": "markdown",
      "metadata": {
        "id": "6pOw1oQAPWCo"
      },
      "source": [
        "Building a linear stack of layers with the sequential model"
      ]
    },
    {
      "cell_type": "code",
      "metadata": {
        "id": "XvdzLEHMPYxk"
      },
      "source": [
        "model = Sequential()"
      ],
      "execution_count": 8,
      "outputs": []
    },
    {
      "cell_type": "markdown",
      "metadata": {
        "id": "i6OqwvjRPb5q"
      },
      "source": [
        "convolutional layer"
      ]
    },
    {
      "cell_type": "code",
      "metadata": {
        "id": "I7d5UvNFPdsi"
      },
      "source": [
        "model.add(Conv2D(50, kernel_size=(3,3), strides=(1,1), padding='same', activation='relu', input_shape=(32, 32, 3)))"
      ],
      "execution_count": 9,
      "outputs": []
    },
    {
      "cell_type": "code",
      "metadata": {
        "id": "x0yaqOSLPmLS"
      },
      "source": [
        "model.add(Conv2D(75, kernel_size=(3,3), strides=(1,1), padding='same', activation='relu'))\n",
        "model.add(MaxPool2D(pool_size=(2,2)))\n",
        "model.add(Dropout(0.25))"
      ],
      "execution_count": 10,
      "outputs": []
    },
    {
      "cell_type": "code",
      "metadata": {
        "id": "QqYWsUSPPpB1"
      },
      "source": [
        "model.add(Conv2D(125, kernel_size=(3,3), strides=(1,1), padding='same', activation='relu'))\n",
        "model.add(MaxPool2D(pool_size=(2,2)))\n",
        "model.add(Dropout(0.25))"
      ],
      "execution_count": 11,
      "outputs": []
    },
    {
      "cell_type": "markdown",
      "metadata": {
        "id": "xmTbORJfQg9R"
      },
      "source": [
        "flatten output of conv"
      ]
    },
    {
      "cell_type": "code",
      "metadata": {
        "id": "XYZZgXEAP6Fa"
      },
      "source": [
        "model.add(Flatten())"
      ],
      "execution_count": 12,
      "outputs": []
    },
    {
      "cell_type": "markdown",
      "metadata": {
        "id": "1l-74ZvJP65z"
      },
      "source": [
        "hidden layer"
      ]
    },
    {
      "cell_type": "code",
      "metadata": {
        "id": "BoFT3zHQPugV"
      },
      "source": [
        "model.add(Dense(500, activation='relu'))\n",
        "model.add(Dropout(0.4))\n",
        "model.add(Dense(250, activation='relu'))\n",
        "model.add(Dropout(0.3))\n",
        "# output layer\n",
        "model.add(Dense(10, activation='softmax'))"
      ],
      "execution_count": 13,
      "outputs": []
    },
    {
      "cell_type": "markdown",
      "metadata": {
        "id": "kSbzxWTKPvEG"
      },
      "source": [
        "output layer"
      ]
    },
    {
      "cell_type": "code",
      "metadata": {
        "id": "2V-ChdOlP_7R"
      },
      "source": [
        "model.add(Dense(10, activation='softmax'))"
      ],
      "execution_count": 14,
      "outputs": []
    },
    {
      "cell_type": "markdown",
      "metadata": {
        "id": "DHKXTAJCQCjA"
      },
      "source": [
        "compiling the sequential model"
      ]
    },
    {
      "cell_type": "code",
      "metadata": {
        "id": "3yqUhAM3QCMg"
      },
      "source": [
        "model.compile(loss='categorical_crossentropy', metrics=['accuracy'], optimizer='adam')"
      ],
      "execution_count": 15,
      "outputs": []
    },
    {
      "cell_type": "markdown",
      "metadata": {
        "id": "XDQEtXlJQIbw"
      },
      "source": [
        "training the model for 50 epochs"
      ]
    },
    {
      "cell_type": "code",
      "metadata": {
        "colab": {
          "base_uri": "https://localhost:8080/"
        },
        "id": "qbns-q3qQH8g",
        "outputId": "4fbb5cb3-e825-41be-949b-8ae43d1aea83"
      },
      "source": [
        "model.fit(X_train, Y_train, batch_size=128, epochs=50, validation_data=(X_test, Y_test))"
      ],
      "execution_count": 18,
      "outputs": [
        {
          "output_type": "stream",
          "text": [
            "Epoch 1/50\n",
            "391/391 [==============================] - 8s 21ms/step - loss: 1.8854 - accuracy: 0.3367 - val_loss: 1.7658 - val_accuracy: 0.3790\n",
            "Epoch 2/50\n",
            "391/391 [==============================] - 8s 21ms/step - loss: 1.7175 - accuracy: 0.3841 - val_loss: 1.6208 - val_accuracy: 0.4094\n",
            "Epoch 3/50\n",
            "391/391 [==============================] - 8s 21ms/step - loss: 1.5839 - accuracy: 0.4215 - val_loss: 1.5186 - val_accuracy: 0.4356\n",
            "Epoch 4/50\n",
            "391/391 [==============================] - 8s 21ms/step - loss: 1.4700 - accuracy: 0.4613 - val_loss: 1.4256 - val_accuracy: 0.4796\n",
            "Epoch 5/50\n",
            "391/391 [==============================] - 8s 21ms/step - loss: 1.3674 - accuracy: 0.5051 - val_loss: 1.2997 - val_accuracy: 0.5383\n",
            "Epoch 6/50\n",
            "391/391 [==============================] - 8s 21ms/step - loss: 1.2755 - accuracy: 0.5412 - val_loss: 1.2391 - val_accuracy: 0.5672\n",
            "Epoch 7/50\n",
            "391/391 [==============================] - 8s 21ms/step - loss: 1.1997 - accuracy: 0.5661 - val_loss: 1.1928 - val_accuracy: 0.5769\n",
            "Epoch 8/50\n",
            "391/391 [==============================] - 8s 21ms/step - loss: 1.1301 - accuracy: 0.5913 - val_loss: 1.1252 - val_accuracy: 0.5952\n",
            "Epoch 9/50\n",
            "391/391 [==============================] - 8s 21ms/step - loss: 1.0652 - accuracy: 0.6106 - val_loss: 1.0936 - val_accuracy: 0.6116\n",
            "Epoch 10/50\n",
            "391/391 [==============================] - 8s 21ms/step - loss: 1.0257 - accuracy: 0.6235 - val_loss: 1.0970 - val_accuracy: 0.6117\n",
            "Epoch 11/50\n",
            "391/391 [==============================] - 8s 21ms/step - loss: 0.9857 - accuracy: 0.6378 - val_loss: 1.0419 - val_accuracy: 0.6377\n",
            "Epoch 12/50\n",
            "391/391 [==============================] - 8s 21ms/step - loss: 0.9403 - accuracy: 0.6540 - val_loss: 1.0180 - val_accuracy: 0.6456\n",
            "Epoch 13/50\n",
            "391/391 [==============================] - 8s 21ms/step - loss: 0.9040 - accuracy: 0.6716 - val_loss: 1.0044 - val_accuracy: 0.6633\n",
            "Epoch 14/50\n",
            "391/391 [==============================] - 8s 21ms/step - loss: 0.8813 - accuracy: 0.6874 - val_loss: 0.9838 - val_accuracy: 0.6832\n",
            "Epoch 15/50\n",
            "391/391 [==============================] - 8s 21ms/step - loss: 0.8387 - accuracy: 0.7114 - val_loss: 0.9641 - val_accuracy: 0.7014\n",
            "Epoch 16/50\n",
            "391/391 [==============================] - 8s 21ms/step - loss: 0.8102 - accuracy: 0.7257 - val_loss: 0.9342 - val_accuracy: 0.7064\n",
            "Epoch 17/50\n",
            "391/391 [==============================] - 8s 21ms/step - loss: 0.7839 - accuracy: 0.7377 - val_loss: 0.9359 - val_accuracy: 0.7114\n",
            "Epoch 18/50\n",
            "391/391 [==============================] - 8s 21ms/step - loss: 0.7528 - accuracy: 0.7567 - val_loss: 0.9141 - val_accuracy: 0.7156\n",
            "Epoch 19/50\n",
            "391/391 [==============================] - 8s 21ms/step - loss: 0.7234 - accuracy: 0.7667 - val_loss: 0.9140 - val_accuracy: 0.7196\n",
            "Epoch 20/50\n",
            "391/391 [==============================] - 8s 21ms/step - loss: 0.6941 - accuracy: 0.7761 - val_loss: 0.8791 - val_accuracy: 0.7319\n",
            "Epoch 21/50\n",
            "391/391 [==============================] - 8s 21ms/step - loss: 0.6778 - accuracy: 0.7827 - val_loss: 0.8496 - val_accuracy: 0.7400\n",
            "Epoch 22/50\n",
            "391/391 [==============================] - 8s 21ms/step - loss: 0.6435 - accuracy: 0.7962 - val_loss: 0.8650 - val_accuracy: 0.7373\n",
            "Epoch 23/50\n",
            "391/391 [==============================] - 8s 21ms/step - loss: 0.6267 - accuracy: 0.8028 - val_loss: 0.8466 - val_accuracy: 0.7456\n",
            "Epoch 24/50\n",
            "391/391 [==============================] - 8s 21ms/step - loss: 0.6120 - accuracy: 0.8051 - val_loss: 0.8303 - val_accuracy: 0.7466\n",
            "Epoch 25/50\n",
            "391/391 [==============================] - 8s 21ms/step - loss: 0.5863 - accuracy: 0.8143 - val_loss: 0.8197 - val_accuracy: 0.7462\n",
            "Epoch 26/50\n",
            "391/391 [==============================] - 8s 21ms/step - loss: 0.5688 - accuracy: 0.8204 - val_loss: 0.8292 - val_accuracy: 0.7464\n",
            "Epoch 27/50\n",
            "391/391 [==============================] - 8s 21ms/step - loss: 0.5487 - accuracy: 0.8276 - val_loss: 0.8182 - val_accuracy: 0.7473\n",
            "Epoch 28/50\n",
            "391/391 [==============================] - 8s 21ms/step - loss: 0.5418 - accuracy: 0.8284 - val_loss: 0.8276 - val_accuracy: 0.7456\n",
            "Epoch 29/50\n",
            "391/391 [==============================] - 8s 21ms/step - loss: 0.5248 - accuracy: 0.8351 - val_loss: 0.8093 - val_accuracy: 0.7535\n",
            "Epoch 30/50\n",
            "391/391 [==============================] - 8s 21ms/step - loss: 0.5096 - accuracy: 0.8415 - val_loss: 0.7890 - val_accuracy: 0.7616\n",
            "Epoch 31/50\n",
            "391/391 [==============================] - 8s 21ms/step - loss: 0.4921 - accuracy: 0.8467 - val_loss: 0.8021 - val_accuracy: 0.7513\n",
            "Epoch 32/50\n",
            "391/391 [==============================] - 8s 21ms/step - loss: 0.4856 - accuracy: 0.8479 - val_loss: 0.8067 - val_accuracy: 0.7558\n",
            "Epoch 33/50\n",
            "391/391 [==============================] - 8s 21ms/step - loss: 0.4660 - accuracy: 0.8543 - val_loss: 0.7862 - val_accuracy: 0.7555\n",
            "Epoch 34/50\n",
            "391/391 [==============================] - 8s 21ms/step - loss: 0.4513 - accuracy: 0.8612 - val_loss: 0.7885 - val_accuracy: 0.7637\n",
            "Epoch 35/50\n",
            "391/391 [==============================] - 8s 21ms/step - loss: 0.4430 - accuracy: 0.8631 - val_loss: 0.8038 - val_accuracy: 0.7479\n",
            "Epoch 36/50\n",
            "391/391 [==============================] - 8s 21ms/step - loss: 0.4396 - accuracy: 0.8636 - val_loss: 0.7919 - val_accuracy: 0.7571\n",
            "Epoch 37/50\n",
            "391/391 [==============================] - 8s 21ms/step - loss: 0.4289 - accuracy: 0.8676 - val_loss: 0.7746 - val_accuracy: 0.7565\n",
            "Epoch 38/50\n",
            "391/391 [==============================] - 8s 21ms/step - loss: 0.4114 - accuracy: 0.8738 - val_loss: 0.7863 - val_accuracy: 0.7655\n",
            "Epoch 39/50\n",
            "391/391 [==============================] - 8s 21ms/step - loss: 0.4074 - accuracy: 0.8769 - val_loss: 0.7759 - val_accuracy: 0.7645\n",
            "Epoch 40/50\n",
            "391/391 [==============================] - 8s 21ms/step - loss: 0.4012 - accuracy: 0.8773 - val_loss: 0.7770 - val_accuracy: 0.7653\n",
            "Epoch 41/50\n",
            "391/391 [==============================] - 8s 21ms/step - loss: 0.3864 - accuracy: 0.8815 - val_loss: 0.7743 - val_accuracy: 0.7668\n",
            "Epoch 42/50\n",
            "391/391 [==============================] - 8s 21ms/step - loss: 0.3776 - accuracy: 0.8853 - val_loss: 0.7770 - val_accuracy: 0.7651\n",
            "Epoch 43/50\n",
            "391/391 [==============================] - 8s 21ms/step - loss: 0.3704 - accuracy: 0.8871 - val_loss: 0.7725 - val_accuracy: 0.7667\n",
            "Epoch 44/50\n",
            "391/391 [==============================] - 8s 21ms/step - loss: 0.3637 - accuracy: 0.8890 - val_loss: 0.7912 - val_accuracy: 0.7706\n",
            "Epoch 45/50\n",
            "391/391 [==============================] - 8s 21ms/step - loss: 0.3583 - accuracy: 0.8919 - val_loss: 0.7722 - val_accuracy: 0.7690\n",
            "Epoch 46/50\n",
            "391/391 [==============================] - 8s 21ms/step - loss: 0.3525 - accuracy: 0.8935 - val_loss: 0.8128 - val_accuracy: 0.7573\n",
            "Epoch 47/50\n",
            "391/391 [==============================] - 8s 21ms/step - loss: 0.3457 - accuracy: 0.8968 - val_loss: 0.8040 - val_accuracy: 0.7576\n",
            "Epoch 48/50\n",
            "391/391 [==============================] - 8s 21ms/step - loss: 0.3351 - accuracy: 0.8977 - val_loss: 0.7771 - val_accuracy: 0.7727\n",
            "Epoch 49/50\n",
            "391/391 [==============================] - 8s 21ms/step - loss: 0.3232 - accuracy: 0.9031 - val_loss: 0.7728 - val_accuracy: 0.7682\n",
            "Epoch 50/50\n",
            "391/391 [==============================] - 8s 21ms/step - loss: 0.3242 - accuracy: 0.9022 - val_loss: 0.7965 - val_accuracy: 0.7617\n"
          ],
          "name": "stdout"
        },
        {
          "output_type": "execute_result",
          "data": {
            "text/plain": [
              "<keras.callbacks.History at 0x7fa1784d1390>"
            ]
          },
          "metadata": {
            "tags": []
          },
          "execution_count": 18
        }
      ]
    },
    {
      "cell_type": "code",
      "metadata": {
        "colab": {
          "base_uri": "https://localhost:8080/"
        },
        "id": "yWJeTeOURrK4",
        "outputId": "37ab98b6-fdb8-486d-cd98-77bb3ba74d2f"
      },
      "source": [
        "X_new = X_test[:9]\n",
        "y_prob = model.predict(X_new).round(2)\n",
        "y_prob"
      ],
      "execution_count": 19,
      "outputs": [
        {
          "output_type": "execute_result",
          "data": {
            "text/plain": [
              "array([[0.  , 0.  , 0.01, 0.89, 0.01, 0.06, 0.02, 0.  , 0.  , 0.01],\n",
              "       [0.06, 0.1 , 0.01, 0.  , 0.  , 0.  , 0.  , 0.  , 0.82, 0.01],\n",
              "       [0.25, 0.17, 0.03, 0.02, 0.  , 0.01, 0.  , 0.  , 0.32, 0.18],\n",
              "       [0.95, 0.  , 0.03, 0.  , 0.  , 0.  , 0.  , 0.01, 0.01, 0.  ],\n",
              "       [0.  , 0.  , 0.01, 0.01, 0.01, 0.  , 0.97, 0.  , 0.  , 0.  ],\n",
              "       [0.  , 0.  , 0.01, 0.01, 0.01, 0.  , 0.97, 0.  , 0.  , 0.  ],\n",
              "       [0.  , 0.97, 0.  , 0.  , 0.  , 0.  , 0.  , 0.  , 0.  , 0.02],\n",
              "       [0.  , 0.  , 0.02, 0.01, 0.01, 0.  , 0.96, 0.  , 0.  , 0.  ],\n",
              "       [0.  , 0.  , 0.01, 0.89, 0.01, 0.05, 0.02, 0.  , 0.  , 0.01]],\n",
              "      dtype=float32)"
            ]
          },
          "metadata": {
            "tags": []
          },
          "execution_count": 19
        }
      ]
    },
    {
      "cell_type": "code",
      "metadata": {
        "colab": {
          "base_uri": "https://localhost:8080/",
          "height": 1000
        },
        "id": "gXglnqzcR1TQ",
        "outputId": "0f5ad076-c960-4037-c0cc-4cc0ffcc929a"
      },
      "source": [
        "import matplotlib.pyplot as plt\n",
        "image = X_test[:8]\n",
        "for i in image:\n",
        "  fig = plt.figure\n",
        "  # plt.imshow(i, cmap='gray')\n",
        "  plt.imshow(i  )\n",
        "  plt.show()"
      ],
      "execution_count": 36,
      "outputs": [
        {
          "output_type": "display_data",
          "data": {
            "image/png": "[encoded data removed]",
            "text/plain": [
              "<Figure size 432x288 with 1 Axes>"
            ]
          },
          "metadata": {
            "tags": [],
            "needs_background": "light"
          }
        },
        {
          "output_type": "display_data",
          "data": {
            "image/png": "[encoded data removed]",
            "text/plain": [
              "<Figure size 432x288 with 1 Axes>"
            ]
          },
          "metadata": {
            "tags": [],
            "needs_background": "light"
          }
        },
        {
          "output_type": "display_data",
          "data": {
            "image/png": "[encoded data removed]",
            "text/plain": [
              "<Figure size 432x288 with 1 Axes>"
            ]
          },
          "metadata": {
            "tags": [],
            "needs_background": "light"
          }
        },
        {
          "output_type": "display_data",
          "data": {
            "image/png": "[encoded data removed]",
            "text/plain": [
              "<Figure size 432x288 with 1 Axes>"
            ]
          },
          "metadata": {
            "tags": [],
            "needs_background": "light"
          }
        },
        {
          "output_type": "display_data",
          "data": {
            "image/png": "[encoded data removed]",
            "text/plain": [
              "<Figure size 432x288 with 1 Axes>"
            ]
          },
          "metadata": {
            "tags": [],
            "needs_background": "light"
          }
        },
        {
          "output_type": "display_data",
          "data": {
            "image/png": "[encoded data removed]",
            "text/plain": [
              "<Figure size 432x288 with 1 Axes>"
            ]
          },
          "metadata": {
            "tags": [],
            "needs_background": "light"
          }
        },
        {
          "output_type": "display_data",
          "data": {
            "image/png": "[encoded data removed]",
            "text/plain": [
              "<Figure size 432x288 with 1 Axes>"
            ]
          },
          "metadata": {
            "tags": [],
            "needs_background": "light"
          }
        },
        {
          "output_type": "display_data",
          "data": {
            "image/png": "[encoded data removed]",
            "text/plain": [
              "<Figure size 432x288 with 1 Axes>"
            ]
          },
          "metadata": {
            "tags": [],
            "needs_background": "light"
          }
        }
      ]
    },
    {
      "cell_type": "markdown",
      "metadata": {
        "id": "jtUzc_IPsNKk"
      },
      "source": [
        "--\n",
        "**#End of MY Activity,Thank You!!**"
      ]
    }
  ]
}